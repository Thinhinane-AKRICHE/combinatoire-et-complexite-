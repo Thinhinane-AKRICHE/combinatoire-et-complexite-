{
 "cells": [
  {
   "cell_type": "code",
   "execution_count": 44,
   "id": "ac3660ce-cd9c-484f-a27e-950375216e58",
   "metadata": {},
   "outputs": [],
   "source": [
    "import numpy as np\n",
    "import matplotlib.pyplot as plt \n",
    "import random as rd"
   ]
  },
  {
   "cell_type": "code",
   "execution_count": 52,
   "id": "9031c8f1-0c2f-433a-ac75-c3f791901014",
   "metadata": {},
   "outputs": [],
   "source": [
    "N = 5\n",
    "k = 0\n",
    "T0 = 40\n",
    "tau = 1e4\n",
    "beta = 1e-1"
   ]
  },
  {
   "cell_type": "code",
   "execution_count": 54,
   "id": "0cde3649-828b-4c63-a06f-0c32c552d186",
   "metadata": {},
   "outputs": [],
   "source": [
    "#calcul de la fonction cout\n",
    "\n",
    "def function_cout():\n",
    "    global chemin\n",
    "    xy = np.concatenate ((x[chemin],y[chemin]))\n",
    "    print(x)\n",
    "    print(y)\n",
    "    print(xy)\n",
    "    energie = np.sum(np.sqrt(xy - np.roll(xy, -1, axis=0))**2, 0)\n",
    "    return energie"
   ]
  },
  {
   "cell_type": "code",
   "execution_count": 58,
   "id": "394e9942-8a3c-462d-a94f-aa920efa6550",
   "metadata": {},
   "outputs": [
    {
     "name": "stdout",
     "output_type": "stream",
     "text": [
      "[0.54175942 0.23385647 0.01742232 0.87246037 0.68116126]\n",
      "[0.68609569 0.57081947 0.6041089  0.3879575  0.79638584]\n",
      "[0.54175942 0.23385647 0.01742232 0.87246037 0.68116126 0.68609569\n",
      " 0.57081947 0.6041089  0.3879575  0.79638584]\n",
      "k=  5 chemin hamiltonien:  [0 1 2 3 4]\n",
      "cout du chemin = Distance du chemin:  nan\n"
     ]
    },
    {
     "name": "stderr",
     "output_type": "stream",
     "text": [
      "C:\\Users\\akric\\AppData\\Local\\Temp\\ipykernel_22280\\2420861653.py:9: RuntimeWarning: invalid value encountered in sqrt\n",
      "  energie = np.sum(np.sqrt(xy - np.roll(xy, -1, axis=0))**2, 0)\n"
     ]
    }
   ],
   "source": [
    "#choix du chemin initial \n",
    "\n",
    "x = np.random.uniform(0,1, N)\n",
    "y = np.random.uniform(0,1, N)\n",
    "chemin = np.arange(N)\n",
    "cout = function_cout()\n",
    "print(\"k= \",k,\"chemin hamiltonien: \", chemin)\n",
    "print(\"cout du chemin = Distance du chemin: \", cout)\n",
    "\n",
    "while(k<N):\n",
    "    plt.plot(x,y,x[chemin],y[chemin],marker='o',color='r')\n",
    "    k+=1"
   ]
  },
  {
   "cell_type": "code",
   "execution_count": null,
   "id": "567e6d45-40f8-49ff-859d-d5ab4f8b631c",
   "metadata": {},
   "outputs": [],
   "source": []
  },
  {
   "cell_type": "code",
   "execution_count": null,
   "id": "b3c13fe0-6d0c-4287-80b5-dacebc411166",
   "metadata": {},
   "outputs": [],
   "source": []
  }
 ],
 "metadata": {
  "kernelspec": {
   "display_name": "Python 3 (ipykernel)",
   "language": "python",
   "name": "python3"
  },
  "language_info": {
   "codemirror_mode": {
    "name": "ipython",
    "version": 3
   },
   "file_extension": ".py",
   "mimetype": "text/x-python",
   "name": "python",
   "nbconvert_exporter": "python",
   "pygments_lexer": "ipython3",
   "version": "3.12.4"
  }
 },
 "nbformat": 4,
 "nbformat_minor": 5
}
